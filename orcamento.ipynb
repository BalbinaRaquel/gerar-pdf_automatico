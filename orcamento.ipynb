{
 "cells": [
  {
   "cell_type": "markdown",
   "id": "9de7b639",
   "metadata": {},
   "source": [
    "<h2 style=\"color: #37709F\">Projeto: Gerar Automaticamente Orçamento</h2>\n",
    "\n",
    "#### Objetivo do projeto:\n",
    "-> Emitir atomaticamento orçamento em formato PDF"
   ]
  },
  {
   "cell_type": "markdown",
   "id": "dee2c8e1",
   "metadata": {},
   "source": [
    "<h3 style=\"color: #2F666F\">1. Entradas de dados</h3>\n",
    "\n",
    "Objetivos específicos:\n",
    "- Descrição do projeto\n",
    "- Total de horas estimadas\n",
    "- Valor da hora de trabalho\n",
    "- Prazo de entrega estimado"
   ]
  },
  {
   "cell_type": "code",
   "execution_count": null,
   "id": "4344720c",
   "metadata": {},
   "outputs": [],
   "source": []
  }
 ],
 "metadata": {
  "language_info": {
   "name": "python"
  }
 },
 "nbformat": 4,
 "nbformat_minor": 5
}
