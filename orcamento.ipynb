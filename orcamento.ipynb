{
 "cells": [
  {
   "cell_type": "markdown",
   "id": "9de7b639",
   "metadata": {},
   "source": [
    "<h2 style=\"color: #1E90FF\">Projeto: Emissão Automática de Orçamentos</h2>\n",
    "\n",
    "#### Objetivo do projeto:\n",
    "-> Emitir atomaticamento orçamento em formato PDF"
   ]
  },
  {
   "cell_type": "markdown",
   "id": "dee2c8e1",
   "metadata": {},
   "source": [
    "<h3 style=\"color: #00BFFF\">1. Entradas de dados</h3>\n",
    "\n",
    "Objetivos específicos:\n",
    "- Descrição do projeto\n",
    "- Total de horas estimadas\n",
    "- Valor da hora de trabalho\n",
    "- Prazo de entrega estimado"
   ]
  },
  {
   "cell_type": "code",
   "execution_count": 2,
   "id": "4344720c",
   "metadata": {},
   "outputs": [],
   "source": [
    "projeto = input(\"Informe a Descrição do Projeto: \")\n",
    "horas_estimadas = input(\"Informe a quantidade de horas estimadas: \")\n",
    "valor_hora = input(\"Informe o valor da hora trabalhada: \")\n",
    "prazo_projeto = input(\"Informe o prazo estimado para o projeto: \")\n"
   ]
  },
  {
   "cell_type": "code",
   "execution_count": 3,
   "id": "b0c0f259",
   "metadata": {},
   "outputs": [
    {
     "name": "stdout",
     "output_type": "stream",
     "text": [
      "2\n"
     ]
    }
   ],
   "source": [
    "print(prazo_projeto)"
   ]
  },
  {
   "cell_type": "markdown",
   "id": "09e3a326",
   "metadata": {},
   "source": [
    "<h3 style=\"color: #00BFFF\">2. Cálculo do valor total estimado</h3>\n",
    "\n",
    "- **Cálculo:** `valor total estimado = total de horas estimadadas x valor da hora de trabalho`"
   ]
  },
  {
   "cell_type": "code",
   "execution_count": 4,
   "id": "5c814554",
   "metadata": {},
   "outputs": [],
   "source": [
    "valor_total_estimado = int(horas_estimadas) * int(valor_hora)"
   ]
  },
  {
   "cell_type": "code",
   "execution_count": 5,
   "id": "7560ba14",
   "metadata": {},
   "outputs": [
    {
     "name": "stdout",
     "output_type": "stream",
     "text": [
      "Valor total estimado para realização do projeto: 1035\n"
     ]
    }
   ],
   "source": [
    "print(f\"Valor total estimado para realização do projeto: {valor_total_estimado}\")"
   ]
  },
  {
   "cell_type": "markdown",
   "id": "6e856b2e",
   "metadata": {},
   "source": [
    "<h3 style=\"color: #00BFFF\">3. Gerar o PDF com o orçamento</h3>"
   ]
  },
  {
   "cell_type": "code",
   "execution_count": null,
   "id": "ca953427",
   "metadata": {},
   "outputs": [],
   "source": []
  }
 ],
 "metadata": {
  "kernelspec": {
   "display_name": "base",
   "language": "python",
   "name": "python3"
  },
  "language_info": {
   "codemirror_mode": {
    "name": "ipython",
    "version": 3
   },
   "file_extension": ".py",
   "mimetype": "text/x-python",
   "name": "python",
   "nbconvert_exporter": "python",
   "pygments_lexer": "ipython3",
   "version": "3.12.7"
  }
 },
 "nbformat": 4,
 "nbformat_minor": 5
}
